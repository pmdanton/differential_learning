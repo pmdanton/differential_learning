{
 "cells": [
  {
   "cell_type": "markdown",
   "metadata": {},
   "source": [
    "# Differential Learning in TensorFlow 2\n",
    "This notebook implements the paper [*Differential Machine Learning*](https://arxiv.org/abs/2005.02347) by Brian Huge and Antoine Savine. The authors already provide notebooks [on their github page](https://github.com/differential-machine-learning) but using TensorFlow 1 code, and lots of low-level manual implementation. Here we aim to reproduce the results with high-level APIs (Keras, GradientTape) in TensorFlow 2. We will use the notations from the authors' notebook as much as possible to allow for easy comparison."
   ]
  },
  {
   "cell_type": "markdown",
   "metadata": {},
   "source": [
    "# Imports"
   ]
  },
  {
   "cell_type": "code",
   "execution_count": 1,
   "metadata": {},
   "outputs": [
    {
     "name": "stdout",
     "output_type": "stream",
     "text": [
      "Using TensorFlow version 2.2.0\n"
     ]
    }
   ],
   "source": [
    "import tensorflow as tf\n",
    "print(\"Using TensorFlow version\", tf.__version__)\n",
    "\n",
    "from tensorflow.keras.models import Sequential\n",
    "from tensorflow.keras.layers import Dense\n",
    "from tensorflow.keras.callbacks import LearningRateScheduler"
   ]
  },
  {
   "cell_type": "markdown",
   "metadata": {},
   "source": [
    "# Part I: Code Functions"
   ]
  },
  {
   "cell_type": "markdown",
   "metadata": {},
   "source": [
    "## Feedforward neural network in TensorFlow\n",
    "Feedforward networks are easily defined in Keras with the [Sequential API](https://www.tensorflow.org/guide/keras/overview#sequential_model) so we don't need to write our own here!"
   ]
  },
  {
   "cell_type": "markdown",
   "metadata": {},
   "source": [
    "## Explicit backpropagation and twin network\n",
    "We will use the [Keras subclassing API](https://www.tensorflow.org/guide/keras/custom_layers_and_models#the_model_class) to define twin networks: given any \"vanilla\" network, its twin version will also return the sensitivities to inputs by AAD. \n",
    "In TensorFlow 2, getting the gradients is easily achieved using [tf.gradientTape](https://www.tensorflow.org/api_docs/python/tf/GradientTape). \n",
    "We try to keep As we can see, it doesn't take much code and greatly reduces the risk of errors!"
   ]
  },
  {
   "cell_type": "code",
   "execution_count": 2,
   "metadata": {},
   "outputs": [],
   "source": [
    "class TwinNetwork(tf.keras.Model):\n",
    "\n",
    "    def __init__(self, vanilla_net):\n",
    "        super(TwinNetwork, self).__init__()\n",
    "        self.vanilla_net = vanilla_net\n",
    "\n",
    "    def call(self, inputs):\n",
    "        with tf.GradientTape() as tape:\n",
    "            tape.watch(inputs)\n",
    "            predictions = self.vanilla_net(inputs)\n",
    "        derivs_predictions = tape.gradient(predictions, inputs) \n",
    "        return predictions, derivs_predictions"
   ]
  },
  {
   "cell_type": "markdown",
   "metadata": {},
   "source": [
    "## Training Loop\n",
    "By implementing TwinNetwork as a Keras model, we get an important benefit: the [API](https://www.tensorflow.org/guide/keras/train_and_evaluate) implements the training loop for us, and is flexible enough to combine multiple losses on multi-output networks like TwinNetwork. The only thing for us to implement is the weighted mean squared error used as loss function for the sensitivities. We sublass [Keras Loss](https://www.tensorflow.org/api_docs/python/tf/keras/losses/Loss) to implement this logic."
   ]
  },
  {
   "cell_type": "code",
   "execution_count": 3,
   "metadata": {},
   "outputs": [],
   "source": [
    "class WeightedMeanSquaredError(tf.keras.losses.Loss):\n",
    "    \n",
    "    def __init__(self, lambda_j):\n",
    "        super(WeightedMeanSquaredError, self).__init__()\n",
    "        self.lambda_j = tf.reshape(lambda_j, (1,-1))\n",
    "\n",
    "    def call(self, y_true, y_pred):\n",
    "        return tf.keras.losses.MSE(self.lambda_j*y_true, self.lambda_j*y_pred)"
   ]
  },
  {
   "cell_type": "markdown",
   "metadata": {},
   "source": [
    "## Data Normalization\n",
    "For convenience here we introduce a simple class for data pre-processing, inspired by [scikit's StandardScaler](https://scikit-learn.org/stable/modules/generated/sklearn.preprocessing.StandardScaler.html) but tailored to our needs."
   ]
  },
  {
   "cell_type": "code",
   "execution_count": 4,
   "metadata": {},
   "outputs": [],
   "source": [
    "from sklearn.preprocessing import StandardScaler\n",
    "\n",
    "class TwinScaler():\n",
    "    \n",
    "    def __init__(self):\n",
    "        self.x_scaler = StandardScaler()\n",
    "        self.y_scaler = StandardScaler()\n",
    "        \n",
    "    def fit(self, x, y):\n",
    "        self.x_scaler.fit(x)\n",
    "        self.y_scaler.fit(y)\n",
    "        self.dy_dx_scale = self.x_scaler.scale_ / self.y_scaler.scale_\n",
    "        \n",
    "    def transform(self, x, y, dy_dx):\n",
    "        x_scaled = self.x_scaler.transform(x)\n",
    "        y_scaled = self.y_scaler.transform(y)\n",
    "        dy_dx_scaled = dy_dx * self.dy_dx_scale\n",
    "        return (x_scaled, y_scaled, dy_dx_scaled)\n",
    "        \n",
    "    def inverse_transform(self, y_scaled, dy_dx_scaled):\n",
    "        y = self.y_scaler.inverse_transform(y_scaled)\n",
    "        dy_dx = dy_dx_scaled / self.dy_dx_scale\n",
    "        return (y, dy_dx)\n"
   ]
  },
  {
   "cell_type": "markdown",
   "metadata": {},
   "source": [
    "We also implement helper functions to calculate the weights *lambda_j* in the loss on sensitivities, and the coefficients *alpha* and *beta* to combine the loss on prices and the loss on sensitivities"
   ]
  },
  {
   "cell_type": "code",
   "execution_count": 5,
   "metadata": {},
   "outputs": [],
   "source": [
    "def calc_lambda_j(dy_dx_scaled):\n",
    "    return 1.0/tf.math.sqrt(tf.reduce_mean(tf.square(dy_dx_scaled), axis=0))\n",
    "\n",
    "def calc_alpha_beta(n, lambda_hyperparameter= 1):\n",
    "    alpha = 1/(1+lambda_hyperparameter*n)\n",
    "    beta = 1-alpha\n",
    "    return [alpha, beta]"
   ]
  },
  {
   "cell_type": "markdown",
   "metadata": {},
   "source": [
    "# Part II : Learning Pricing and Risk Functions from LSM samples"
   ]
  },
  {
   "cell_type": "markdown",
   "metadata": {},
   "source": [
    "## Black & Scholes\n",
    "The following code is taken from the [original notebook](https://github.com/differential-machine-learning) to generate the Black-Scholes call option example in 1 dimension. We don't modify it."
   ]
  },
  {
   "cell_type": "code",
   "execution_count": 6,
   "metadata": {},
   "outputs": [],
   "source": [
    "# helper analytics    \n",
    "import numpy as np\n",
    "from scipy.stats import norm\n",
    "import matplotlib.pyplot as plt\n",
    "\n",
    "def bsPrice(spot, strike, vol, T):\n",
    "    d1 = (np.log(spot/strike) + vol * vol * T) / vol / np.sqrt(T)\n",
    "    d2 = d1 - vol * np.sqrt(T)\n",
    "    return spot * norm.cdf(d1) - strike * norm.cdf(d2)\n",
    "\n",
    "def bsDelta(spot, strike, vol, T):\n",
    "    d1 = (np.log(spot/strike) + vol * vol * T) / vol / np.sqrt(T)\n",
    "    return norm.cdf(d1)\n",
    "\n",
    "def bsVega(spot, strike, vol, T):\n",
    "    d1 = (np.log(spot/strike) + vol * vol * T) / vol / np.sqrt(T)\n",
    "    return spot * np.sqrt(T) * norm.pdf(d1)\n",
    "#\n",
    "    \n",
    "# main class\n",
    "class BlackScholes:\n",
    "    \n",
    "    def __init__(self, \n",
    "                 vol=0.2,\n",
    "                 T1=1, \n",
    "                 T2=2, \n",
    "                 K=1.10,\n",
    "                 volMult=1.5):\n",
    "        \n",
    "        self.spot = 1\n",
    "        self.vol = vol\n",
    "        self.T1 = T1\n",
    "        self.T2 = T2\n",
    "        self.K = K\n",
    "        self.volMult = volMult\n",
    "                        \n",
    "    # training set: returns S1 (mx1), C2 (mx1) and dC2/dS1 (mx1)\n",
    "    def trainingSet(self, m, anti=True, seed=None):\n",
    "    \n",
    "        np.random.seed(seed)\n",
    "        \n",
    "        # 2 sets of normal returns\n",
    "        returns = np.random.normal(size=[m, 2])\n",
    "\n",
    "        # SDE\n",
    "        vol0 = self.vol * self.volMult\n",
    "        R1 = np.exp(-0.5*vol0*vol0*self.T1 + vol0*np.sqrt(self.T1)*returns[:,0])\n",
    "        R2 = np.exp(-0.5*self.vol*self.vol*(self.T2-self.T1) \\\n",
    "                    + self.vol*np.sqrt(self.T2-self.T1)*returns[:,1])\n",
    "        S1 = self.spot * R1\n",
    "        S2 = S1 * R2 \n",
    "\n",
    "        # payoff\n",
    "        pay = np.maximum(0, S2 - self.K)\n",
    "        \n",
    "        # two antithetic paths\n",
    "        if anti:\n",
    "            \n",
    "            R2a = np.exp(-0.5*self.vol*self.vol*(self.T2-self.T1) \\\n",
    "                    - self.vol*np.sqrt(self.T2-self.T1)*returns[:,1])\n",
    "            S2a = S1 * R2a             \n",
    "            paya = np.maximum(0, S2a - self.K)\n",
    "            \n",
    "            X = S1\n",
    "            Y = 0.5 * (pay + paya)\n",
    "    \n",
    "            # differentials\n",
    "            Z1 =  np.where(S2 > self.K, R2, 0.0).reshape((-1,1)) \n",
    "            Z2 =  np.where(S2a > self.K, R2a, 0.0).reshape((-1,1)) \n",
    "            Z = 0.5 * (Z1 + Z2)\n",
    "                    \n",
    "        # standard\n",
    "        else:\n",
    "        \n",
    "            X = S1\n",
    "            Y = pay\n",
    "            \n",
    "            # differentials\n",
    "            Z =  np.where(S2 > self.K, R2, 0.0).reshape((-1,1)) \n",
    "        \n",
    "        return X.reshape([-1,1]), Y.reshape([-1,1]), Z.reshape([-1,1])\n",
    "    \n",
    "    # test set: returns a grid of uniform spots \n",
    "    # with corresponding ground true prices, deltas and vegas\n",
    "    def testSet(self, lower=0.35, upper=1.65, num=100, seed=None):\n",
    "        \n",
    "        spots = np.linspace(lower, upper, num).reshape((-1, 1))\n",
    "        # compute prices, deltas and vegas\n",
    "        prices = bsPrice(spots, self.K, self.vol, self.T2 - self.T1).reshape((-1, 1))\n",
    "        deltas = bsDelta(spots, self.K, self.vol, self.T2 - self.T1).reshape((-1, 1))\n",
    "        vegas = bsVega(spots, self.K, self.vol, self.T2 - self.T1).reshape((-1, 1))\n",
    "        return spots, prices, deltas, vegas   "
   ]
  },
  {
   "cell_type": "markdown",
   "metadata": {},
   "source": [
    "This gives us our training dataset:"
   ]
  },
  {
   "cell_type": "code",
   "execution_count": 7,
   "metadata": {},
   "outputs": [],
   "source": [
    "bs = BlackScholes()\n",
    "bs_sims = bs.trainingSet(8192, anti=True, seed=1234)"
   ]
  },
  {
   "cell_type": "markdown",
   "metadata": {},
   "source": [
    "Normalize the data"
   ]
  },
  {
   "cell_type": "code",
   "execution_count": 8,
   "metadata": {},
   "outputs": [],
   "source": [
    "bs_scaler = TwinScaler()\n",
    "bs_scaler.fit(bs_sims[0], bs_sims[1])\n",
    "bs_scaled = bs_scaler.transform(*bs_sims)"
   ]
  },
  {
   "cell_type": "markdown",
   "metadata": {},
   "source": [
    "the BlackScholes class is built with NumPy that uses float64 by default, while TensorFlow uses float32. Matrix multiplication will throw if the two types are mixed up, so we explicitely cast to tf.float32"
   ]
  },
  {
   "cell_type": "code",
   "execution_count": 9,
   "metadata": {},
   "outputs": [],
   "source": [
    "bs_scaled = list(map(lambda x: tf.cast(x, tf.float32), bs_scaled))"
   ]
  },
  {
   "cell_type": "markdown",
   "metadata": {},
   "source": [
    "Calculate lambda_j, create the corresponding weighted MSE loss object, and calculate the relative weights of price loss and sensitivities loss:"
   ]
  },
  {
   "cell_type": "code",
   "execution_count": 10,
   "metadata": {},
   "outputs": [],
   "source": [
    "lambda_j = calc_lambda_j(bs_scaled[-1])\n",
    "weighted_mse = WeightedMeanSquaredError(lambda_j)\n",
    "\n",
    "[alpha, beta] = calc_alpha_beta(bs_scaled[0].shape[1], lambda_hyperparameter= 1)"
   ]
  },
  {
   "cell_type": "markdown",
   "metadata": {},
   "source": [
    "Now we can define a simple neural net, here with 4 hidden layers of size 20 and softplus activation."
   ]
  },
  {
   "cell_type": "code",
   "execution_count": 11,
   "metadata": {},
   "outputs": [],
   "source": [
    "vanilla_net = Sequential(\n",
    "    [Dense(20, activation='softplus', input_shape=(1,)), \n",
    "     Dense(20, activation='softplus'), \n",
    "     Dense(20, activation='softplus'), \n",
    "     Dense(20, activation='softplus'), \n",
    "     Dense(1, activation=None)]\n",
    ")"
   ]
  },
  {
   "cell_type": "markdown",
   "metadata": {},
   "source": [
    "We then convert it to a twin network with a simple call:"
   ]
  },
  {
   "cell_type": "code",
   "execution_count": 12,
   "metadata": {},
   "outputs": [],
   "source": [
    "twin_net = TwinNetwork(vanilla_net)"
   ]
  },
  {
   "cell_type": "markdown",
   "metadata": {},
   "source": [
    "The compilation step lets use choose the optimizer and, more importantly, the loss for each head of the model (prices, sensitivities), as well as loss_weights the combine the losses. In our case they are alpha and beta calculated earlier."
   ]
  },
  {
   "cell_type": "code",
   "execution_count": 13,
   "metadata": {},
   "outputs": [],
   "source": [
    "twin_net.compile(optimizer=\"adam\", loss=[\"mse\", weighted_mse], loss_weights=[alpha, beta])"
   ]
  },
  {
   "cell_type": "markdown",
   "metadata": {},
   "source": [
    "Define training hyperparameters:"
   ]
  },
  {
   "cell_type": "code",
   "execution_count": 14,
   "metadata": {},
   "outputs": [],
   "source": [
    "EPOCHS = 100\n",
    "BATCH_SIZE = 256\n",
    "STEPS_PER_EPOCH = 16"
   ]
  },
  {
   "cell_type": "markdown",
   "metadata": {},
   "source": [
    "We build the learning rate scheduler using a [Keras callback](https://www.tensorflow.org/api_docs/python/tf/keras/callbacks/LearningRateScheduler):"
   ]
  },
  {
   "cell_type": "code",
   "execution_count": 15,
   "metadata": {},
   "outputs": [],
   "source": [
    "lr_schedule_epochs = [0.0, 0.2, 0.6, 0.9, 1.0]\n",
    "lr_schedule_rates = [1e-8, 0.1, 0.01, 1e-6, 1e-8]\n",
    "lr_schedule_fn = lambda t: np.interp(t/(EPOCHS-1), lr_schedule_epochs, lr_schedule_rates)\n",
    "\n",
    "lr_scheduler = LearningRateScheduler(lr_schedule_fn) "
   ]
  },
  {
   "cell_type": "markdown",
   "metadata": {},
   "source": [
    "We can now fit our model. To train on multiple outputs we simply pass them as a list."
   ]
  },
  {
   "cell_type": "code",
   "execution_count": 16,
   "metadata": {},
   "outputs": [
    {
     "name": "stdout",
     "output_type": "stream",
     "text": [
      "Epoch 1/100\n",
      "16/16 [==============================] - 0s 1ms/step - loss: 0.9736 - output_1_loss: 0.9822 - output_2_loss: 0.9650 - lr: 1.0000e-08\n",
      "Epoch 2/100\n",
      "16/16 [==============================] - 0s 1ms/step - loss: 0.6738 - output_1_loss: 0.6585 - output_2_loss: 0.6891 - lr: 0.0051\n",
      "Epoch 3/100\n",
      "16/16 [==============================] - 0s 1ms/step - loss: 0.2641 - output_1_loss: 0.2049 - output_2_loss: 0.3233 - lr: 0.0101\n",
      "Epoch 4/100\n",
      "16/16 [==============================] - 0s 1ms/step - loss: 0.1594 - output_1_loss: 0.1143 - output_2_loss: 0.2044 - lr: 0.0152\n",
      "Epoch 5/100\n",
      "16/16 [==============================] - 0s 1ms/step - loss: 0.1370 - output_1_loss: 0.1063 - output_2_loss: 0.1677 - lr: 0.0202\n",
      "Epoch 6/100\n",
      "16/16 [==============================] - 0s 1ms/step - loss: 0.1283 - output_1_loss: 0.1067 - output_2_loss: 0.1500 - lr: 0.0253\n",
      "Epoch 7/100\n",
      "16/16 [==============================] - 0s 1ms/step - loss: 0.1231 - output_1_loss: 0.1017 - output_2_loss: 0.1445 - lr: 0.0303\n",
      "Epoch 8/100\n",
      "16/16 [==============================] - 0s 1ms/step - loss: 0.1304 - output_1_loss: 0.1046 - output_2_loss: 0.1561 - lr: 0.0354\n",
      "Epoch 9/100\n",
      "16/16 [==============================] - 0s 966us/step - loss: 0.1347 - output_1_loss: 0.1140 - output_2_loss: 0.1553 - lr: 0.0404\n",
      "Epoch 10/100\n",
      "16/16 [==============================] - 0s 1ms/step - loss: 0.1203 - output_1_loss: 0.0958 - output_2_loss: 0.1448 - lr: 0.0455\n",
      "Epoch 11/100\n",
      "16/16 [==============================] - 0s 1ms/step - loss: 0.1264 - output_1_loss: 0.1032 - output_2_loss: 0.1496 - lr: 0.0505\n",
      "Epoch 12/100\n",
      "16/16 [==============================] - 0s 1ms/step - loss: 0.1274 - output_1_loss: 0.1040 - output_2_loss: 0.1507 - lr: 0.0556\n",
      "Epoch 13/100\n",
      "16/16 [==============================] - 0s 971us/step - loss: 0.1325 - output_1_loss: 0.1058 - output_2_loss: 0.1591 - lr: 0.0606\n",
      "Epoch 14/100\n",
      "16/16 [==============================] - 0s 1ms/step - loss: 0.1334 - output_1_loss: 0.1158 - output_2_loss: 0.1510 - lr: 0.0657\n",
      "Epoch 15/100\n",
      "16/16 [==============================] - 0s 936us/step - loss: 0.1377 - output_1_loss: 0.1168 - output_2_loss: 0.1587 - lr: 0.0707\n",
      "Epoch 16/100\n",
      "16/16 [==============================] - 0s 1ms/step - loss: 0.1254 - output_1_loss: 0.1044 - output_2_loss: 0.1464 - lr: 0.0758\n",
      "Epoch 17/100\n",
      "16/16 [==============================] - 0s 1ms/step - loss: 0.1187 - output_1_loss: 0.0940 - output_2_loss: 0.1435 - lr: 0.0808\n",
      "Epoch 18/100\n",
      "16/16 [==============================] - 0s 1ms/step - loss: 0.1309 - output_1_loss: 0.1078 - output_2_loss: 0.1541 - lr: 0.0859\n",
      "Epoch 19/100\n",
      "16/16 [==============================] - 0s 1ms/step - loss: 0.1271 - output_1_loss: 0.1064 - output_2_loss: 0.1478 - lr: 0.0909\n",
      "Epoch 20/100\n",
      "16/16 [==============================] - 0s 1ms/step - loss: 0.1386 - output_1_loss: 0.1157 - output_2_loss: 0.1615 - lr: 0.0960\n",
      "Epoch 21/100\n",
      "16/16 [==============================] - 0s 1ms/step - loss: 0.1258 - output_1_loss: 0.1066 - output_2_loss: 0.1450 - lr: 0.0995\n",
      "Epoch 22/100\n",
      "16/16 [==============================] - 0s 1ms/step - loss: 0.1298 - output_1_loss: 0.1032 - output_2_loss: 0.1565 - lr: 0.0973\n",
      "Epoch 23/100\n",
      "16/16 [==============================] - 0s 1ms/step - loss: 0.1233 - output_1_loss: 0.0972 - output_2_loss: 0.1494 - lr: 0.0950\n",
      "Epoch 24/100\n",
      "16/16 [==============================] - 0s 1ms/step - loss: 0.1299 - output_1_loss: 0.1061 - output_2_loss: 0.1536 - lr: 0.0927\n",
      "Epoch 25/100\n",
      "16/16 [==============================] - 0s 1ms/step - loss: 0.1368 - output_1_loss: 0.1176 - output_2_loss: 0.1560 - lr: 0.0905\n",
      "Epoch 26/100\n",
      "16/16 [==============================] - 0s 1ms/step - loss: 0.1261 - output_1_loss: 0.1018 - output_2_loss: 0.1504 - lr: 0.0882\n",
      "Epoch 27/100\n",
      "16/16 [==============================] - 0s 1ms/step - loss: 0.1258 - output_1_loss: 0.1049 - output_2_loss: 0.1468 - lr: 0.0859\n",
      "Epoch 28/100\n",
      "16/16 [==============================] - 0s 1ms/step - loss: 0.1248 - output_1_loss: 0.0996 - output_2_loss: 0.1500 - lr: 0.0836\n",
      "Epoch 29/100\n",
      "16/16 [==============================] - 0s 1ms/step - loss: 0.1272 - output_1_loss: 0.1019 - output_2_loss: 0.1525 - lr: 0.0814\n",
      "Epoch 30/100\n",
      "16/16 [==============================] - 0s 1ms/step - loss: 0.1234 - output_1_loss: 0.1018 - output_2_loss: 0.1450 - lr: 0.0791\n",
      "Epoch 31/100\n",
      "16/16 [==============================] - 0s 1ms/step - loss: 0.1201 - output_1_loss: 0.0990 - output_2_loss: 0.1412 - lr: 0.0768\n",
      "Epoch 32/100\n",
      "16/16 [==============================] - 0s 1ms/step - loss: 0.1272 - output_1_loss: 0.1000 - output_2_loss: 0.1544 - lr: 0.0745\n",
      "Epoch 33/100\n",
      "16/16 [==============================] - 0s 1ms/step - loss: 0.1237 - output_1_loss: 0.1002 - output_2_loss: 0.1472 - lr: 0.0723\n",
      "Epoch 34/100\n",
      "16/16 [==============================] - 0s 1ms/step - loss: 0.1211 - output_1_loss: 0.0959 - output_2_loss: 0.1464 - lr: 0.0700\n",
      "Epoch 35/100\n",
      "16/16 [==============================] - 0s 1ms/step - loss: 0.1170 - output_1_loss: 0.0883 - output_2_loss: 0.1458 - lr: 0.0677\n",
      "Epoch 36/100\n",
      "16/16 [==============================] - 0s 1ms/step - loss: 0.1292 - output_1_loss: 0.1081 - output_2_loss: 0.1502 - lr: 0.0655\n",
      "Epoch 37/100\n",
      "16/16 [==============================] - 0s 1ms/step - loss: 0.1270 - output_1_loss: 0.1025 - output_2_loss: 0.1516 - lr: 0.0632\n",
      "Epoch 38/100\n",
      "16/16 [==============================] - 0s 1ms/step - loss: 0.1233 - output_1_loss: 0.1009 - output_2_loss: 0.1456 - lr: 0.0609\n",
      "Epoch 39/100\n",
      "16/16 [==============================] - 0s 1ms/step - loss: 0.1272 - output_1_loss: 0.1011 - output_2_loss: 0.1533 - lr: 0.0586\n",
      "Epoch 40/100\n",
      "16/16 [==============================] - 0s 1ms/step - loss: 0.1179 - output_1_loss: 0.0954 - output_2_loss: 0.1404 - lr: 0.0564\n",
      "Epoch 41/100\n",
      "16/16 [==============================] - 0s 1ms/step - loss: 0.1204 - output_1_loss: 0.0968 - output_2_loss: 0.1440 - lr: 0.0541\n",
      "Epoch 42/100\n",
      "16/16 [==============================] - 0s 1ms/step - loss: 0.1271 - output_1_loss: 0.1027 - output_2_loss: 0.1516 - lr: 0.0518\n",
      "Epoch 43/100\n",
      "16/16 [==============================] - 0s 1ms/step - loss: 0.1230 - output_1_loss: 0.0980 - output_2_loss: 0.1480 - lr: 0.0495\n",
      "Epoch 44/100\n",
      "16/16 [==============================] - 0s 1ms/step - loss: 0.1264 - output_1_loss: 0.1045 - output_2_loss: 0.1483 - lr: 0.0473\n",
      "Epoch 45/100\n",
      "16/16 [==============================] - 0s 1ms/step - loss: 0.1231 - output_1_loss: 0.1011 - output_2_loss: 0.1451 - lr: 0.0450\n",
      "Epoch 46/100\n",
      "16/16 [==============================] - 0s 1ms/step - loss: 0.1228 - output_1_loss: 0.0964 - output_2_loss: 0.1493 - lr: 0.0427\n",
      "Epoch 47/100\n",
      "16/16 [==============================] - 0s 1ms/step - loss: 0.1235 - output_1_loss: 0.0994 - output_2_loss: 0.1476 - lr: 0.0405\n",
      "Epoch 48/100\n",
      "16/16 [==============================] - 0s 1ms/step - loss: 0.1214 - output_1_loss: 0.0968 - output_2_loss: 0.1461 - lr: 0.0382\n",
      "Epoch 49/100\n",
      "16/16 [==============================] - 0s 1ms/step - loss: 0.1188 - output_1_loss: 0.0926 - output_2_loss: 0.1450 - lr: 0.0359\n",
      "Epoch 50/100\n",
      "16/16 [==============================] - 0s 1ms/step - loss: 0.1275 - output_1_loss: 0.1050 - output_2_loss: 0.1500 - lr: 0.0336\n",
      "Epoch 51/100\n",
      "16/16 [==============================] - 0s 1ms/step - loss: 0.1198 - output_1_loss: 0.0953 - output_2_loss: 0.1443 - lr: 0.0314\n",
      "Epoch 52/100\n",
      "16/16 [==============================] - 0s 1ms/step - loss: 0.1253 - output_1_loss: 0.1008 - output_2_loss: 0.1498 - lr: 0.0291\n",
      "Epoch 53/100\n",
      "16/16 [==============================] - 0s 1ms/step - loss: 0.1225 - output_1_loss: 0.1015 - output_2_loss: 0.1435 - lr: 0.0268\n",
      "Epoch 54/100\n",
      "16/16 [==============================] - 0s 1ms/step - loss: 0.1209 - output_1_loss: 0.0931 - output_2_loss: 0.1488 - lr: 0.0245\n",
      "Epoch 55/100\n",
      "16/16 [==============================] - 0s 1ms/step - loss: 0.1200 - output_1_loss: 0.0955 - output_2_loss: 0.1446 - lr: 0.0223\n",
      "Epoch 56/100\n",
      "16/16 [==============================] - 0s 1ms/step - loss: 0.1236 - output_1_loss: 0.0991 - output_2_loss: 0.1481 - lr: 0.0200\n",
      "Epoch 57/100\n",
      "16/16 [==============================] - 0s 1ms/step - loss: 0.1232 - output_1_loss: 0.1014 - output_2_loss: 0.1450 - lr: 0.0177\n",
      "Epoch 58/100\n",
      "16/16 [==============================] - 0s 1ms/step - loss: 0.1204 - output_1_loss: 0.0933 - output_2_loss: 0.1475 - lr: 0.0155\n",
      "Epoch 59/100\n",
      "16/16 [==============================] - 0s 1ms/step - loss: 0.1262 - output_1_loss: 0.1057 - output_2_loss: 0.1467 - lr: 0.0132\n",
      "Epoch 60/100\n",
      "16/16 [==============================] - 0s 1ms/step - loss: 0.1173 - output_1_loss: 0.0886 - output_2_loss: 0.1459 - lr: 0.0109\n",
      "Epoch 61/100\n",
      "16/16 [==============================] - 0s 1ms/step - loss: 0.1207 - output_1_loss: 0.0961 - output_2_loss: 0.1453 - lr: 0.0098\n",
      "Epoch 62/100\n",
      "16/16 [==============================] - 0s 1ms/step - loss: 0.1224 - output_1_loss: 0.0979 - output_2_loss: 0.1469 - lr: 0.0095\n",
      "Epoch 63/100\n",
      "16/16 [==============================] - 0s 1ms/step - loss: 0.1186 - output_1_loss: 0.0973 - output_2_loss: 0.1399 - lr: 0.0091\n",
      "Epoch 64/100\n",
      "16/16 [==============================] - 0s 1ms/step - loss: 0.1243 - output_1_loss: 0.0966 - output_2_loss: 0.1519 - lr: 0.0088\n",
      "Epoch 65/100\n",
      "16/16 [==============================] - 0s 1ms/step - loss: 0.1180 - output_1_loss: 0.0944 - output_2_loss: 0.1416 - lr: 0.0085\n",
      "Epoch 66/100\n",
      "16/16 [==============================] - 0s 1ms/step - loss: 0.1250 - output_1_loss: 0.0996 - output_2_loss: 0.1504 - lr: 0.0081\n",
      "Epoch 67/100\n",
      "16/16 [==============================] - 0s 1ms/step - loss: 0.1189 - output_1_loss: 0.0917 - output_2_loss: 0.1460 - lr: 0.0078\n",
      "Epoch 68/100\n",
      "16/16 [==============================] - 0s 1ms/step - loss: 0.1244 - output_1_loss: 0.1028 - output_2_loss: 0.1459 - lr: 0.0074\n",
      "Epoch 69/100\n",
      "16/16 [==============================] - 0s 1ms/step - loss: 0.1207 - output_1_loss: 0.0969 - output_2_loss: 0.1445 - lr: 0.0071\n",
      "Epoch 70/100\n",
      "16/16 [==============================] - 0s 1ms/step - loss: 0.1226 - output_1_loss: 0.0977 - output_2_loss: 0.1475 - lr: 0.0068\n",
      "Epoch 71/100\n",
      "16/16 [==============================] - 0s 1ms/step - loss: 0.1224 - output_1_loss: 0.0945 - output_2_loss: 0.1502 - lr: 0.0064\n",
      "Epoch 72/100\n",
      "16/16 [==============================] - 0s 1ms/step - loss: 0.1207 - output_1_loss: 0.0996 - output_2_loss: 0.1419 - lr: 0.0061\n",
      "Epoch 73/100\n",
      "16/16 [==============================] - 0s 1ms/step - loss: 0.1182 - output_1_loss: 0.0927 - output_2_loss: 0.1437 - lr: 0.0058\n",
      "Epoch 74/100\n",
      "16/16 [==============================] - 0s 831us/step - loss: 0.1247 - output_1_loss: 0.1012 - output_2_loss: 0.1482 - lr: 0.0054\n",
      "Epoch 75/100\n",
      "16/16 [==============================] - 0s 957us/step - loss: 0.1253 - output_1_loss: 0.1028 - output_2_loss: 0.1478 - lr: 0.0051\n",
      "Epoch 76/100\n",
      "16/16 [==============================] - 0s 930us/step - loss: 0.1175 - output_1_loss: 0.0911 - output_2_loss: 0.1440 - lr: 0.0047\n",
      "Epoch 77/100\n",
      "16/16 [==============================] - 0s 1ms/step - loss: 0.1202 - output_1_loss: 0.0940 - output_2_loss: 0.1464 - lr: 0.0044\n",
      "Epoch 78/100\n",
      "16/16 [==============================] - 0s 1ms/step - loss: 0.1223 - output_1_loss: 0.0993 - output_2_loss: 0.1453 - lr: 0.0041\n",
      "Epoch 79/100\n",
      "16/16 [==============================] - 0s 1ms/step - loss: 0.1195 - output_1_loss: 0.0951 - output_2_loss: 0.1438 - lr: 0.0037\n",
      "Epoch 80/100\n",
      "16/16 [==============================] - 0s 1ms/step - loss: 0.1234 - output_1_loss: 0.0988 - output_2_loss: 0.1480 - lr: 0.0034\n",
      "Epoch 81/100\n",
      "16/16 [==============================] - 0s 1ms/step - loss: 0.1240 - output_1_loss: 0.0992 - output_2_loss: 0.1488 - lr: 0.0031\n",
      "Epoch 82/100\n",
      "16/16 [==============================] - 0s 1ms/step - loss: 0.1187 - output_1_loss: 0.0945 - output_2_loss: 0.1428 - lr: 0.0027\n",
      "Epoch 83/100\n",
      "16/16 [==============================] - 0s 1ms/step - loss: 0.1225 - output_1_loss: 0.1009 - output_2_loss: 0.1442 - lr: 0.0024\n",
      "Epoch 84/100\n",
      "16/16 [==============================] - 0s 1ms/step - loss: 0.1201 - output_1_loss: 0.0927 - output_2_loss: 0.1475 - lr: 0.0021\n",
      "Epoch 85/100\n",
      "16/16 [==============================] - 0s 987us/step - loss: 0.1244 - output_1_loss: 0.1004 - output_2_loss: 0.1484 - lr: 0.0017\n",
      "Epoch 86/100\n",
      "16/16 [==============================] - 0s 998us/step - loss: 0.1182 - output_1_loss: 0.0934 - output_2_loss: 0.1431 - lr: 0.0014\n",
      "Epoch 87/100\n",
      "16/16 [==============================] - 0s 1ms/step - loss: 0.1209 - output_1_loss: 0.0953 - output_2_loss: 0.1465 - lr: 0.0010\n",
      "Epoch 88/100\n",
      "16/16 [==============================] - 0s 1ms/step - loss: 0.1216 - output_1_loss: 0.0983 - output_2_loss: 0.1449 - lr: 7.0800e-04\n",
      "Epoch 89/100\n",
      "16/16 [==============================] - 0s 1ms/step - loss: 0.1191 - output_1_loss: 0.0935 - output_2_loss: 0.1447 - lr: 3.7133e-04\n",
      "Epoch 90/100\n",
      "16/16 [==============================] - 0s 1ms/step - loss: 0.1233 - output_1_loss: 0.1000 - output_2_loss: 0.1467 - lr: 3.4667e-05\n",
      "Epoch 91/100\n",
      "16/16 [==============================] - 0s 1ms/step - loss: 0.1271 - output_1_loss: 0.1041 - output_2_loss: 0.1500 - lr: 9.1000e-07\n",
      "Epoch 92/100\n",
      "16/16 [==============================] - 0s 1ms/step - loss: 0.1154 - output_1_loss: 0.0893 - output_2_loss: 0.1414 - lr: 8.1000e-07\n",
      "Epoch 93/100\n",
      "16/16 [==============================] - 0s 1ms/step - loss: 0.1218 - output_1_loss: 0.0965 - output_2_loss: 0.1472 - lr: 7.1000e-07\n",
      "Epoch 94/100\n",
      "16/16 [==============================] - 0s 1ms/step - loss: 0.1206 - output_1_loss: 0.0969 - output_2_loss: 0.1442 - lr: 6.1000e-07\n",
      "Epoch 95/100\n",
      "16/16 [==============================] - 0s 1ms/step - loss: 0.1219 - output_1_loss: 0.0960 - output_2_loss: 0.1477 - lr: 5.1000e-07\n",
      "Epoch 96/100\n",
      "16/16 [==============================] - 0s 1ms/step - loss: 0.1205 - output_1_loss: 0.0975 - output_2_loss: 0.1436 - lr: 4.1000e-07\n",
      "Epoch 97/100\n",
      "16/16 [==============================] - 0s 1ms/step - loss: 0.1180 - output_1_loss: 0.0932 - output_2_loss: 0.1427 - lr: 3.1000e-07\n",
      "Epoch 98/100\n",
      "16/16 [==============================] - 0s 920us/step - loss: 0.1244 - output_1_loss: 0.1002 - output_2_loss: 0.1487 - lr: 2.1000e-07\n",
      "Epoch 99/100\n",
      "16/16 [==============================] - 0s 1ms/step - loss: 0.1177 - output_1_loss: 0.0855 - output_2_loss: 0.1499 - lr: 1.1000e-07\n",
      "Epoch 100/100\n",
      "16/16 [==============================] - 0s 1ms/step - loss: 0.1247 - output_1_loss: 0.1079 - output_2_loss: 0.1414 - lr: 1.0000e-08\n"
     ]
    }
   ],
   "source": [
    "hist = twin_net.fit(bs_scaled[0], [bs_scaled[1], bs_scaled[2]], \\\n",
    "                    batch_size=BATCH_SIZE, epochs=EPOCHS, steps_per_epoch=STEPS_PER_EPOCH, callbacks=[lr_scheduler])"
   ]
  },
  {
   "cell_type": "markdown",
   "metadata": {},
   "source": [
    "Now we want to see how our network performs on the testing set. We'll need to scale our data, get the predictions, and de-scale the outputs: we put it all in a helper class *Pipeline*"
   ]
  },
  {
   "cell_type": "code",
   "execution_count": 17,
   "metadata": {},
   "outputs": [],
   "source": [
    "# Helper class to scale, predict, unscale\n",
    "class Pipeline():\n",
    "    def __init__(self, twin_net, scaler):\n",
    "        self.twin_net = twin_net\n",
    "        self.scaler = scaler\n",
    "        \n",
    "    def predict(self, x):\n",
    "        x_scaled = self.scaler.x_scaler.transform(x)\n",
    "        y_scaled = self.twin_net.predict(x_scaled)\n",
    "        y = self.scaler.inverse_transform(*y_scaled)\n",
    "        return y"
   ]
  },
  {
   "cell_type": "markdown",
   "metadata": {},
   "source": [
    "Create our prediction pipeline for the twin model:"
   ]
  },
  {
   "cell_type": "code",
   "execution_count": 18,
   "metadata": {},
   "outputs": [],
   "source": [
    "pipe = Pipeline(twin_net, bs_scaler)"
   ]
  },
  {
   "cell_type": "markdown",
   "metadata": {},
   "source": [
    "Initialize the test set:"
   ]
  },
  {
   "cell_type": "code",
   "execution_count": 19,
   "metadata": {},
   "outputs": [],
   "source": [
    "bs_test= bs.testSet()"
   ]
  },
  {
   "cell_type": "markdown",
   "metadata": {},
   "source": [
    "Get our predictions from the pipeline:"
   ]
  },
  {
   "cell_type": "code",
   "execution_count": 20,
   "metadata": {},
   "outputs": [],
   "source": [
    "test_pred = pipe.predict(bs_test[0])"
   ]
  },
  {
   "cell_type": "markdown",
   "metadata": {},
   "source": [
    "Plot our prediction of prices against closed-form prices:"
   ]
  },
  {
   "cell_type": "code",
   "execution_count": 21,
   "metadata": {},
   "outputs": [
    {
     "data": {
      "image/png": "[encoded data removed]",
      "text/plain": [
       "<Figure size 432x288 with 1 Axes>"
      ]
     },
     "metadata": {
      "needs_background": "light"
     },
     "output_type": "display_data"
    }
   ],
   "source": [
    "# prices predictions\n",
    "plt.plot(bs_test[0], test_pred[0], 'r')\n",
    "plt.plot(bs_test[0], bs_test[1], 'b')\n",
    "plt.show()"
   ]
  },
  {
   "cell_type": "markdown",
   "metadata": {},
   "source": [
    "Do the same for delta:"
   ]
  },
  {
   "cell_type": "code",
   "execution_count": 22,
   "metadata": {},
   "outputs": [
    {
     "data": {
      "image/png": "[encoded data removed]",
      "text/plain": [
       "<Figure size 432x288 with 1 Axes>"
      ]
     },
     "metadata": {
      "needs_background": "light"
     },
     "output_type": "display_data"
    }
   ],
   "source": [
    "# Delta predictions\n",
    "plt.plot(bs_test[0], test_pred[1], 'r')\n",
    "plt.plot(bs_test[0], bs_test[2], 'b')\n",
    "plt.show()"
   ]
  },
  {
   "cell_type": "markdown",
   "metadata": {},
   "source": [
    "A very good fit!"
   ]
  }
 ],
 "metadata": {
  "kernelspec": {
   "display_name": "Python 3",
   "language": "python",
   "name": "python3"
  },
  "language_info": {
   "codemirror_mode": {
    "name": "ipython",
    "version": 3
   },
   "file_extension": ".py",
   "mimetype": "text/x-python",
   "name": "python",
   "nbconvert_exporter": "python",
   "pygments_lexer": "ipython3",
   "version": "3.8.2"
  }
 },
 "nbformat": 4,
 "nbformat_minor": 4
}
